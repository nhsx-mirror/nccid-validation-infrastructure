{
 "cells": [
  {
   "cell_type": "markdown",
   "id": "628f7b2c-510f-418b-8fca-9afcda5c9029",
   "metadata": {},
   "source": [
    "# Cleanup AWS AMIs and instances\n",
    "\n",
    "This notebook lists and deletes all AMIs and EC2 instances in an AWS account"
   ]
  },
  {
   "cell_type": "code",
   "execution_count": null,
   "id": "54ae4b9a-66dc-40c9-ac41-ff8a63abcdd3",
   "metadata": {},
   "outputs": [],
   "source": [
    "import boto3\n",
    "from datetime import datetime"
   ]
  },
  {
   "cell_type": "markdown",
   "id": "4cd433e2-1337-465f-8948-2aa9eb6ce466",
   "metadata": {},
   "source": [
    "Change `DELETE` to `True` to delete AMIs and instances"
   ]
  },
  {
   "cell_type": "code",
   "execution_count": null,
   "id": "90a93658-4e3f-4a47-afd7-158e507e003d",
   "metadata": {},
   "outputs": [],
   "source": [
    "DELETE = False"
   ]
  },
  {
   "cell_type": "code",
   "execution_count": null,
   "id": "18e692e8-f70c-4d2e-91aa-96d330facf3d",
   "metadata": {},
   "outputs": [],
   "source": [
    "ec2 = boto3.client(\"ec2\")\n",
    "\n",
    "def list_owned_amis():\n",
    "    \"\"\"\n",
    "    Lists AMIs owned by this AWS account (default is to also list external public AMIs)\n",
    "    \"\"\"\n",
    "    print(datetime.now().isoformat())\n",
    "    amis = ec2.describe_images(Owners=[\"self\"])\n",
    "    print(f\"{'Name':<50} {'ImageId':<25} {'CreationDate'}\")\n",
    "    for a in sorted(amis[\"Images\"], key=lambda a: a[\"Name\"]):\n",
    "        print(f\"{a['Name']:<50} {a['ImageId']:<25} {a['CreationDate']}\")\n",
    "    return amis[\"Images\"]\n",
    "\n",
    "\n",
    "def list_instances():\n",
    "    \"\"\"\n",
    "    List AWS instances in this account (includes recently terminated instances)\n",
    "    \"\"\"\n",
    "    print(datetime.now().isoformat())\n",
    "    instances = ec2.describe_instances()\n",
    "    print(f\"{'Name':<50} {'State':<10} {'InstanceId':<25} {'ImageId':<25} {'LaunchTime'}\")\n",
    "    for r in instances[\"Reservations\"]:\n",
    "        for i in r[\"Instances\"]:\n",
    "            name = [t[\"Value\"] for t in i[\"Tags\"] if t[\"Key\"] == \"Name\"][0]\n",
    "            print(f\"{name:<50} {i['State']['Name']:<10} {i['InstanceId']:<25} {i['ImageId']:<25} {i['LaunchTime']}\")\n",
    "    return [i for r in instances[\"Reservations\"] for i in r[\"Instances\"]]"
   ]
  },
  {
   "cell_type": "markdown",
   "id": "5c4a2718-0eda-4478-a68a-a4ff88f90528",
   "metadata": {},
   "source": [
    "## AMIs\n",
    "\n",
    "AMIs owned by this account:"
   ]
  },
  {
   "cell_type": "code",
   "execution_count": null,
   "id": "bace24e8-f1ce-4a6a-839c-0091a08ce61b",
   "metadata": {},
   "outputs": [],
   "source": [
    "amis = list_owned_amis()"
   ]
  },
  {
   "cell_type": "markdown",
   "id": "6cc67baf-2f5a-4642-ac0e-3af3230eb1de",
   "metadata": {},
   "source": [
    "### Delete AMIs"
   ]
  },
  {
   "cell_type": "code",
   "execution_count": null,
   "id": "f95d938e-eed5-42dc-9409-128050002f81",
   "metadata": {},
   "outputs": [],
   "source": [
    "if DELETE:\n",
    "    delete_ami_ids = [a[\"ImageId\"] for a in amis]\n",
    "else:\n",
    "    delete_ami_ids = []\n",
    "\n",
    "for ami in delete_ami_ids:\n",
    "    r = ec2.deregister_image(ImageId=ami)\n",
    "    print(r)"
   ]
  },
  {
   "cell_type": "code",
   "execution_count": null,
   "id": "02ee075b-2504-4dd1-9a82-ce5b46b28cc0",
   "metadata": {},
   "outputs": [],
   "source": [
    "list_owned_amis();"
   ]
  },
  {
   "cell_type": "markdown",
   "id": "b4fcb85c-5000-47d5-8fab-bf260ab8a148",
   "metadata": {},
   "source": [
    "## EC2 instances\n",
    "\n",
    "This includes instances that were recently terminated"
   ]
  },
  {
   "cell_type": "code",
   "execution_count": null,
   "id": "2ca71fde-6ffa-4ee6-8587-77d223a804ae",
   "metadata": {},
   "outputs": [],
   "source": [
    "instances = list_instances()"
   ]
  },
  {
   "cell_type": "markdown",
   "id": "d0a7ddb3-7c90-4562-aa90-bf8a8d6baff9",
   "metadata": {},
   "source": [
    "## Delete instances"
   ]
  },
  {
   "cell_type": "code",
   "execution_count": null,
   "id": "8f1590b3-8059-4400-9f6c-502263bb107a",
   "metadata": {},
   "outputs": [],
   "source": [
    "if DELETE:\n",
    "    delete_instance_ids = [i[\"InstanceId\"] for i in instances]\n",
    "else:\n",
    "    delete_instance_ids = []\n",
    "\n",
    "for instance in delete_instance_ids:\n",
    "    r = ec2.terminate_instances(InstanceIds=[instance])\n",
    "    print(r)"
   ]
  },
  {
   "cell_type": "code",
   "execution_count": null,
   "id": "504e92a5-7df1-4016-ae9e-b8da280f8a7a",
   "metadata": {},
   "outputs": [],
   "source": [
    "list_instances();"
   ]
  },
  {
   "cell_type": "code",
   "execution_count": null,
   "id": "6dab2c27-8d5c-4470-ba39-420ff0659be0",
   "metadata": {},
   "outputs": [],
   "source": []
  }
 ],
 "metadata": {
  "kernelspec": {
   "display_name": "Python 3 (ipykernel)",
   "language": "python",
   "name": "python3"
  },
  "language_info": {
   "codemirror_mode": {
    "name": "ipython",
    "version": 3
   },
   "file_extension": ".py",
   "mimetype": "text/x-python",
   "name": "python",
   "nbconvert_exporter": "python",
   "pygments_lexer": "ipython3",
   "version": "3.9.6"
  }
 },
 "nbformat": 4,
 "nbformat_minor": 5
}
