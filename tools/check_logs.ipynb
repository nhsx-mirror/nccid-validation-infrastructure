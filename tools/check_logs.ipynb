{
 "cells": [
  {
   "cell_type": "markdown",
   "id": "ce37065d-c240-43c7-be49-9a2deec964cd",
   "metadata": {},
   "source": [
    "# Decode all arguments in AWS Cloudwatch auditd logs"
   ]
  },
  {
   "cell_type": "code",
   "execution_count": null,
   "id": "57b58cff-3bac-458f-a2fa-1ceba7595ef2",
   "metadata": {},
   "outputs": [],
   "source": [
    "import boto3\n",
    "from binascii import a2b_hex\n",
    "from datetime import datetime\n",
    "import re"
   ]
  },
  {
   "cell_type": "markdown",
   "id": "d2bc64ec-1ee0-4d40-b032-7d603861dc98",
   "metadata": {},
   "source": [
    "Get logs in this date-time interval "
   ]
  },
  {
   "cell_type": "code",
   "execution_count": null,
   "id": "0fd45f9e-3e22-4fd0-a212-1963d5de009d",
   "metadata": {},
   "outputs": [],
   "source": [
    "dt_start = datetime(2021, 11, 10, 17, 30, 0)\n",
    "dt_end = datetime(2021, 11, 10, 18, 0, 0)"
   ]
  },
  {
   "cell_type": "code",
   "execution_count": null,
   "id": "1a13fadd-8ace-4aaf-ade9-e98a67a6fc00",
   "metadata": {},
   "outputs": [],
   "source": [
    "ts = (int(dt_start.timestamp() * 1000), int(dt_end.timestamp() * 1000))\n",
    "\n",
    "def overlap(a, b):\n",
    "    return a[0] <= b[0] <= a[1] or b[0] <= a[0] <= b[1]\n",
    "\n",
    "def parse_execve(m):\n",
    "    d = dict(token.split(\"=\", 1) for token in m.split())\n",
    "    for k, v in d.items():\n",
    "        if k == \"argc\":\n",
    "            d[k] = int(v)\n",
    "        elif re.match(r\"a\\d+\", k):\n",
    "            if v.startswith('\"') and v.endswith('\"'):\n",
    "                d[k] = v[1:-1]\n",
    "            else:\n",
    "                d[k] = a2b_hex(v).decode()\n",
    "    return d"
   ]
  },
  {
   "cell_type": "markdown",
   "id": "439fa42b-ebcf-4c24-a618-21383db9a457",
   "metadata": {},
   "source": [
    "Optionally set the AWS `profile_name`"
   ]
  },
  {
   "cell_type": "code",
   "execution_count": null,
   "id": "bdd3472f-639e-4ede-b303-c7de21f873cf",
   "metadata": {},
   "outputs": [],
   "source": [
    "session = boto3.session.Session(profile_name=None)\n",
    "logs = session.client(\"logs\")"
   ]
  },
  {
   "cell_type": "markdown",
   "id": "53287e00-77f8-4570-b7d8-488b06d3ad0d",
   "metadata": {},
   "source": [
    "Fetch all logs in the requested date-time interval"
   ]
  },
  {
   "cell_type": "code",
   "execution_count": null,
   "id": "3ffca495-9cf3-4ad9-898c-90390dc210de",
   "metadata": {},
   "outputs": [],
   "source": [
    "relevant_streams = []\n",
    "log_streams = logs.describe_log_streams(logGroupName=\"audit.log\")\n",
    "for s in log_streams[\"logStreams\"]:\n",
    "    if overlap((s[\"firstEventTimestamp\"], s[\"lastEventTimestamp\"]), ts):\n",
    "        relevant_streams.append(s[\"logStreamName\"])"
   ]
  },
  {
   "cell_type": "code",
   "execution_count": null,
   "id": "a3005d0d-a2c1-43a5-bb39-c9c22898994b",
   "metadata": {},
   "outputs": [],
   "source": [
    "# Concatenate all log streams together\n",
    "events = []\n",
    "for stream in relevant_streams:\n",
    "    print(f\"Getting logs for {stream}\")\n",
    "    kwargs = {\n",
    "        \"logGroupName\": \"audit.log\", \"logStreamName\": stream,\n",
    "        \"startTime\": ts[0], \"endTime\": ts[1],\n",
    "        \"startFromHead\": True,\n",
    "    }\n",
    "    e = logs.get_log_events(**kwargs)\n",
    "    events.extend(e[\"events\"])\n",
    "    prevForwardToken = \"\"\n",
    "    while e[\"nextForwardToken\"] and e[\"nextForwardToken\"] != prevForwardToken:\n",
    "        print(e[\"nextForwardToken\"])\n",
    "        prevForwardToken = e[\"nextForwardToken\"]\n",
    "        e = logs.get_log_events(**kwargs, nextToken=e[\"nextForwardToken\"])\n",
    "        events.extend(e[\"events\"])\n"
   ]
  },
  {
   "cell_type": "markdown",
   "id": "f56d3275-61f7-47c4-9b7e-eb1e9762f020",
   "metadata": {},
   "source": [
    "Look for `EXECVE` messages, parse arguments, print out unique arguments.\n",
    "\n",
    "Manually review these for sensitive identifiers"
   ]
  },
  {
   "cell_type": "code",
   "execution_count": null,
   "id": "150e2ff9-a5ea-4721-b239-c289a7abb05b",
   "metadata": {},
   "outputs": [],
   "source": [
    "all_args = set()\n",
    "\n",
    "for e in events:\n",
    "    if \"type=EXECVE\" in e[\"message\"]:\n",
    "        m = parse_execve(e[\"message\"])\n",
    "        for a in range(m[\"argc\"]):\n",
    "            all_args.add(m[f\"a{a}\"])\n",
    "\n",
    "for arg in sorted(all_args):\n",
    "    print(arg)"
   ]
  }
 ],
 "metadata": {
  "kernelspec": {
   "display_name": "Python 3 (ipykernel)",
   "language": "python",
   "name": "python3"
  },
  "language_info": {
   "codemirror_mode": {
    "name": "ipython",
    "version": 3
   },
   "file_extension": ".py",
   "mimetype": "text/x-python",
   "name": "python",
   "nbconvert_exporter": "python",
   "pygments_lexer": "ipython3",
   "version": "3.9.6"
  }
 },
 "nbformat": 4,
 "nbformat_minor": 5
}
